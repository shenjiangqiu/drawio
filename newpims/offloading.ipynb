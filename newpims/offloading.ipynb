{
 "cells": [
  {
   "cell_type": "markdown",
   "metadata": {},
   "source": [
    "# chunk-interleaving\n",
    "\n",
    "- dram using: RoRaBgBaCoCh\n",
    "  - each data block in dram  is 64 Bytes, each data in matrix is 2 Bytes, each block can store 32 numbers. ther are 4096 numbers in a row, so 4096/32  = 128 blocks is needed.\n",
    "  - in the NeuPims, there are 32 channels, so there need 4 rounds(4*32 = 128) to store a row in a matrix, So each row stores 4 blocks.\n",
    "  - there are 4096 rows in a matrix. need 4096*4 = 16384 rounds to store a matrix.\n",
    "  - each row can store 1024/64 = 16 blocks, so each rowbuffer can store 4 rows.\n",
    "  - there need 4096/4 = 1024 rows to store the matrix.\n",
    "- the problem:\n",
    "  - we do not consider the chips, what about multiple chips?\n",
    "  - this layout cannot perform GEMV in PIM. like:\n",
    "  - ![nopim](./offloading.png)\n",
    "  - in real, each row need 4 rounds. so each bank contains 4 block of data. each block contains 32 numbers. \n",
    "  - so in bank1, block1 contains 1-32, channel2 contains 33-64..\n",
    "- row-wise interleaving:\n",
    "  - chunk-size:32 numbers, each bank is a different row in matrix. so there is 1024 chunks in a round, there are 4096 rounds in total.\n",
    "  - bank1: 1-32, bank2.1-32... bank1024: 1-32.\n",
    "  - bank1: 33-64, bank2: 33-64... bank1024: 33-64.\n",
    "- when doing this:\n",
    "  - when all channels read the data from all channels. the row of the the first row is in the same bank.\n",
    "  - so only 1 channel will work\n",
    "- chunk interleaving:"
   ]
  }
 ],
 "metadata": {
  "kernelspec": {
   "display_name": ".venv",
   "language": "python",
   "name": "python3"
  },
  "language_info": {
   "name": "python",
   "version": "3.10.10"
  }
 },
 "nbformat": 4,
 "nbformat_minor": 2
}
